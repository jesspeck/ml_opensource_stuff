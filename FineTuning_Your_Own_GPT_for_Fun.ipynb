{
  "nbformat": 4,
  "nbformat_minor": 0,
  "metadata": {
    "colab": {
      "private_outputs": true,
      "provenance": [],
      "authorship_tag": "ABX9TyNcEESlml/ZAEcFsjFydeCY",
      "include_colab_link": true
    },
    "kernelspec": {
      "name": "python3",
      "display_name": "Python 3"
    },
    "language_info": {
      "name": "python"
    },
    "gpuClass": "standard"
  },
  "cells": [
    {
      "cell_type": "markdown",
      "metadata": {
        "id": "view-in-github",
        "colab_type": "text"
      },
      "source": [
        "<a href=\"https://colab.research.google.com/github/jesspeck/ml_opensource_stuff/blob/main/FineTuning_Your_Own_GPT_for_Fun.ipynb\" target=\"_parent\"><img src=\"https://colab.research.google.com/assets/colab-badge.svg\" alt=\"Open In Colab\"/></a>"
      ]
    },
    {
      "cell_type": "markdown",
      "source": [
        "# Get the Data (if you need to)"
      ],
      "metadata": {
        "id": "qGPvFZc_9D4O"
      }
    },
    {
      "cell_type": "code",
      "execution_count": null,
      "metadata": {
        "id": "JKn0vVYQHz4N"
      },
      "outputs": [],
      "source": [
        "!pip install pdfminer.six&> /dev/null"
      ]
    },
    {
      "cell_type": "code",
      "execution_count": null,
      "metadata": {
        "id": "jrhZ_uQsIFii"
      },
      "outputs": [],
      "source": [
        "# convert pdf to html\n",
        "\n",
        "# import libraries\n",
        "import pdfminer\n",
        "from pdfminer.high_level import extract_text\n",
        "\n",
        "# convert pdf to html\n",
        "html = extract_text('/content/searchqualityevaluatorguidelines.pdf')\n",
        "\n",
        "# print the html\n",
        "print(html)"
      ]
    },
    {
      "cell_type": "code",
      "source": [
        "# install tesseract\n",
        "!sudo apt install tesseract-ocr&> /dev/null\n",
        "!sudo apt install libtesseract-dev&> /dev/null\n",
        "\n",
        "# install pytesseract\n",
        "!pip install pytesseract&> /dev/null"
      ],
      "metadata": {
        "id": "zw2J45fi_Ics"
      },
      "execution_count": null,
      "outputs": []
    },
    {
      "cell_type": "code",
      "source": [
        "import pandas as pd\n",
        "import pytesseract\n",
        "from PIL import Image\n",
        "import requests\n",
        "from io import BytesIO\n"
      ],
      "metadata": {
        "id": "z0VQAmE9m38x"
      },
      "execution_count": null,
      "outputs": []
    },
    {
      "cell_type": "markdown",
      "source": [
        "- [Webpage + Quality Justification Sheet](https://docs.google.com/spreadsheets/d/e/2PACX-1vQPIVCeDB9JsDOqhI7WsxqWslWDACFFDaxIyMtFV6dqivRNNcVKCPOTNpS1vj2rDMrddUHyu_1qz8or/pubhtml?gid=1622036834&single=true)\n",
        "- [Query matching sheet](https://docs.google.com/spreadsheets/d/e/2PACX-1vS0DoEEMfv2PN3I5b8Txk1R9jiIz6ym8qrBjCxknlfISkOq83t8DbwEpKTQdp1LkgrE8B_b3SyTMCRp/pubhtml)"
      ],
      "metadata": {
        "id": "uICWc1QoAqp7"
      }
    },
    {
      "cell_type": "code",
      "source": [
        "\n",
        "df = pd.read_csv('data2.csv')\n",
        "\n",
        "# get the links\n",
        "links = df['Link']\n",
        "\n",
        "# for each link, get the image and describe it\n",
        "for link in links:\n",
        "    # get the image link\n",
        "    # <a class=\"\"c28\"\" href=\"\"https://www.google.com/url?q=https://guidelines.raterhub.com/images/TpuszNx1UfllzMVPr107.jpg&amp;sa=D&amp;source=editors&amp;ust=1679073266641779&amp;usg=AOvVaw1kmTlPECrg_0S2lfFmko9H\n",
        "    try:\n",
        "        img_link = link.split('q=')[1].split('&')[0]\n",
        "    except:\n",
        "        img_link = link\n",
        "    # get the image file name\n",
        "    #img_file = img_link.split('/')[-1]\n",
        "    try:\n",
        "        response = requests.get(img_link)\n",
        "        img = Image.open(BytesIO(response.content))\n",
        "    except:\n",
        "        img = img_link\n",
        "    # open the image file\n",
        "    # img = Image.open(img_file)\n",
        "    # describe the image\n",
        "    try:\n",
        "        description = pytesseract.image_to_string(img)\n",
        "    except:\n",
        "        description = img\n",
        "    # add the description to the link column\n",
        "    df.loc[df['Link'] == link, 'Link'] = description\n",
        "    print(description)\n"
      ],
      "metadata": {
        "id": "geXxZiiXmztR"
      },
      "execution_count": null,
      "outputs": []
    },
    {
      "cell_type": "code",
      "source": [
        "# convert df to json!"
      ],
      "metadata": {
        "id": "plGUcDxIA3et"
      },
      "execution_count": null,
      "outputs": []
    },
    {
      "cell_type": "code",
      "source": [
        "df2 = pd.DataFrame()"
      ],
      "metadata": {
        "id": "-5JeQgac5e_8"
      },
      "execution_count": null,
      "outputs": []
    },
    {
      "cell_type": "code",
      "source": [
        "# content as prompt\n",
        "\n",
        "df2['prompt'] = 'rate the following content according to quality rater guidelines' + df['Link']\n",
        "df2['completion'] = df['Webpage'] + ' ' + df['Quality Justification'] + ' ' + df['PQ rating'] \n",
        "# now we are going to make some json \"prompt\": \"\", \"response\": \"\"} files from our content\n"
      ],
      "metadata": {
        "id": "XNz9Z6kN4rc3"
      },
      "execution_count": null,
      "outputs": []
    },
    {
      "cell_type": "code",
      "source": [
        "df2.to_json('data_content_as_prompt.json', orient='records', lines=True)"
      ],
      "metadata": {
        "id": "3qt2JdKdBKkA"
      },
      "execution_count": null,
      "outputs": []
    },
    {
      "cell_type": "markdown",
      "source": [
        "## Import your JSON"
      ],
      "metadata": {
        "id": "w1hNYiaZ9J0T"
      }
    },
    {
      "cell_type": "code",
      "source": [
        "# replace with whatever you wish\n",
        "\n",
        "json = '/content/data_content_as_prompt.json'"
      ],
      "metadata": {
        "id": "MrX1hbZO9WRa"
      },
      "execution_count": null,
      "outputs": []
    },
    {
      "cell_type": "markdown",
      "source": [
        "## Open AI Time"
      ],
      "metadata": {
        "id": "bjgIvPO9_XRC"
      }
    },
    {
      "cell_type": "code",
      "source": [
        "import openai\n"
      ],
      "metadata": {
        "id": "aPGjxjNG_Y8Z"
      },
      "execution_count": null,
      "outputs": []
    },
    {
      "cell_type": "code",
      "source": [
        "!set OPENAI_API_KEY='your_key_here'"
      ],
      "metadata": {
        "id": "ahXSthyT_bOM"
      },
      "execution_count": null,
      "outputs": []
    },
    {
      "cell_type": "code",
      "source": [
        "!openai tools fine_tunes.prepare_data -f /content/data_content_as_prompt.json"
      ],
      "metadata": {
        "id": "EaJVqFkA_c3S"
      },
      "execution_count": null,
      "outputs": []
    },
    {
      "cell_type": "code",
      "source": [
        "jsonfile = r'/content/data_content_as_prompt_prepared.jsonl'"
      ],
      "metadata": {
        "id": "zCozM28F_k-L"
      },
      "execution_count": null,
      "outputs": []
    },
    {
      "cell_type": "code",
      "source": [
        "openai.api_key = 'your_key_here'"
      ],
      "metadata": {
        "id": "h0Mv29mg_m1D"
      },
      "execution_count": null,
      "outputs": []
    },
    {
      "cell_type": "code",
      "source": [
        "\n",
        "upload_response = openai.File.create(\n",
        "  file=open(jsonfile, \"rb\"),\n",
        "  purpose='fine-tune'\n",
        ")\n"
      ],
      "metadata": {
        "id": "A0RjR72FHH1m"
      },
      "execution_count": null,
      "outputs": []
    },
    {
      "cell_type": "code",
      "source": [
        "file_id = upload_response.id\n"
      ],
      "metadata": {
        "id": "BB1BydLRHJaS"
      },
      "execution_count": null,
      "outputs": []
    },
    {
      "cell_type": "code",
      "source": [
        "upload_response\n"
      ],
      "metadata": {
        "id": "1_NAkYs_HKcE"
      },
      "execution_count": null,
      "outputs": []
    },
    {
      "cell_type": "code",
      "source": [
        "davinci_response = openai.FineTune.create(training_file=file_id, model=\"davinci\",suffix=\"rater_guideline_model\")\n",
        "\n",
        "#%%"
      ],
      "metadata": {
        "id": "3OqNKpOAFilh"
      },
      "execution_count": null,
      "outputs": []
    },
    {
      "cell_type": "code",
      "source": [
        "davinci_response"
      ],
      "metadata": {
        "id": "qnkZF9MeHNeT"
      },
      "execution_count": null,
      "outputs": []
    },
    {
      "cell_type": "code",
      "source": [
        "davinci_response.events[-1]\n"
      ],
      "metadata": {
        "id": "3E8i7F49QJNn"
      },
      "execution_count": null,
      "outputs": []
    },
    {
      "cell_type": "code",
      "source": [
        "# model_name_here should be replaced by something that looks like \"davinci:ft-personal-2023-03-01-23-34-47\"\n",
        "\n",
        "fine_tuned_model = 'model_name_here'\n"
      ],
      "metadata": {
        "id": "xi8Jb9vUFmPp"
      },
      "execution_count": null,
      "outputs": []
    },
    {
      "cell_type": "code",
      "source": [
        "!pip install trafilatura&> /dev/null"
      ],
      "metadata": {
        "id": "Kz0FY43-AQVZ"
      },
      "execution_count": null,
      "outputs": []
    },
    {
      "cell_type": "code",
      "source": [
        "from trafilatura import fetch_url, extract\n",
        "\n",
        "url = 'https://www.localseoguide.com/organic-keyword-research-how-to-use-n-grams-to-find-new-opportunities/'\n",
        "\n",
        "downloaded = fetch_url(url)\n",
        "\n",
        "result = extract(downloaded)\n",
        "\n",
        "\n",
        "\n",
        "result = result[:1400]\n",
        "print(result)"
      ],
      "metadata": {
        "id": "aoYr49P_APjV"
      },
      "execution_count": null,
      "outputs": []
    },
    {
      "cell_type": "code",
      "source": [
        "context = 'Ended Content. Now, According to quality rater guidelines, describe the above content, give it a quality rating, and justify that rating: '"
      ],
      "metadata": {
        "id": "nTBXMBSqRwIz"
      },
      "execution_count": null,
      "outputs": []
    },
    {
      "cell_type": "code",
      "source": [
        "prompt = result + context"
      ],
      "metadata": {
        "id": "2AoyytFnQVez"
      },
      "execution_count": null,
      "outputs": []
    },
    {
      "cell_type": "code",
      "source": [
        "answer = openai.Completion.create(\n",
        "  model=fine_tuned_model,\n",
        "  prompt=prompt,\n",
        "  max_tokens=500,\n",
        "  temperature=0.7\n",
        ")\n",
        "answer['choices'][0]['text']"
      ],
      "metadata": {
        "id": "JMu11t5YHOpf"
      },
      "execution_count": null,
      "outputs": []
    },
    {
      "cell_type": "code",
      "source": [
        "answer = openai.Completion.create(\n",
        "  model='davinci',\n",
        "  prompt=prompt,\n",
        "  max_tokens=500,\n",
        "  temperature=0.7\n",
        ")\n",
        "answer['choices'][0]['text']"
      ],
      "metadata": {
        "id": "MNaFVOCqHMC3"
      },
      "execution_count": null,
      "outputs": []
    }
  ]
}